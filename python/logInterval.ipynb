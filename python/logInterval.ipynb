{
 "metadata": {
  "name": "logInterval"
 },
 "nbformat": 3,
 "nbformat_minor": 0,
 "worksheets": [
  {
   "cells": [
    {
     "cell_type": "markdown",
     "metadata": {},
     "source": [
      "# logInterval\n",
      "\n",
      "##Introduction\n",
      "\n",
      "The code loops different sizes of ROI and different exposures. Sometimes the program crashes, but can be restarted with a  different `roiY` starting value in order to resume from where it left off"
     ]
    },
    {
     "cell_type": "markdown",
     "metadata": {},
     "source": [
      "## Import data"
     ]
    },
    {
     "cell_type": "code",
     "collapsed": false,
     "input": [
      "roiHeight = 512 * 3\n",
      "\n",
      "import glob\n",
      "# filenames = glob.glob(\"/Users/elliot/dev/ximea/Examples/logInterval/data-win32/0-\" + str(roiHeight) + \"-*.txt\")\n",
      "filenames = glob.glob(\"/Users/elliot/dev/ximea/Examples/logInterval/data-win32/*.txt\")\n",
      "\n",
      "for filename in filenames:\n",
      "    A = loadtxt(filename)\n",
      "    A = A[10:,:] #\u00a0strip first 10 datapoints as camera initialises\n",
      "    \n",
      "    if filename == filenames[0]:\n",
      "        dataSet = A\n",
      "    else:\n",
      "        dataSet = vstack([dataSet,A])\n",
      "dataSet.shape\n",
      "backup = dataSet\n",
      "dataSet.shape"
     ],
     "language": "python",
     "metadata": {},
     "outputs": [
      {
       "output_type": "pyout",
       "prompt_number": 5,
       "text": [
        "(150570, 8)"
       ]
      }
     ],
     "prompt_number": 5
    },
    {
     "cell_type": "code",
     "collapsed": false,
     "input": [
      "# Recover dataSet\n",
      "dataSet = backup\n",
      "dataSet.shape"
     ],
     "language": "python",
     "metadata": {},
     "outputs": [
      {
       "output_type": "pyout",
       "prompt_number": 34,
       "text": [
        "(3960, 8)"
       ]
      }
     ],
     "prompt_number": 34
    },
    {
     "cell_type": "markdown",
     "metadata": {},
     "source": [
      "Data arrives in the format:\n",
      "\n",
      "* 0 - availableBandwidth\n",
      "* 1 - limitBandwidth\n",
      "* 2 - exposure\n",
      "* 3 - roiY\n",
      "* 4 - roiHeight\n",
      "* 5 - nFrame\n",
      "* 6 - interval (system)\n",
      "* 7 - intervalTimestamp"
     ]
    },
    {
     "cell_type": "markdown",
     "metadata": {},
     "source": [
      "##Clean out erroneous points"
     ]
    },
    {
     "cell_type": "code",
     "collapsed": false,
     "input": [
      "# strip where timestamp interval is above 1s\n",
      "dataSetStripped = delete(dataSet, where(dataSet[:,7] > 1e9), 0)\n",
      "dataSetStripped.shape"
     ],
     "language": "python",
     "metadata": {},
     "outputs": [
      {
       "output_type": "pyout",
       "prompt_number": 12,
       "text": [
        "(149051, 8)"
       ]
      }
     ],
     "prompt_number": 12
    },
    {
     "cell_type": "markdown",
     "metadata": {},
     "source": [
      "##Plot a single data file"
     ]
    },
    {
     "cell_type": "code",
     "collapsed": false,
     "input": [
      "plot(A[:,5], A[:,7] / 1000, label='timestamp interval')\n",
      "plot(A[:,5], A[:,6] / 1000, label='system interval')\n",
      "legend()\n",
      "title(\"Interval [roiHeight=\" + A)\n",
      "xlabel(\"Frame index\")\n",
      "ylabel(\"Interval [us]\")"
     ],
     "language": "python",
     "metadata": {},
     "outputs": [
      {
       "ename": "TypeError",
       "evalue": "cannot concatenate 'str' and 'numpy.ndarray' objects",
       "output_type": "pyerr",
       "traceback": [
        "\u001b[0;31m---------------------------------------------------------------------------\u001b[0m\n\u001b[0;31mTypeError\u001b[0m                                 Traceback (most recent call last)",
        "\u001b[0;32m<ipython-input-19-2cbf3eb864a7>\u001b[0m in \u001b[0;36m<module>\u001b[0;34m()\u001b[0m\n\u001b[1;32m      2\u001b[0m \u001b[0mplot\u001b[0m\u001b[0;34m(\u001b[0m\u001b[0mA\u001b[0m\u001b[0;34m[\u001b[0m\u001b[0;34m:\u001b[0m\u001b[0;34m,\u001b[0m\u001b[0;36m5\u001b[0m\u001b[0;34m]\u001b[0m\u001b[0;34m,\u001b[0m \u001b[0mA\u001b[0m\u001b[0;34m[\u001b[0m\u001b[0;34m:\u001b[0m\u001b[0;34m,\u001b[0m\u001b[0;36m6\u001b[0m\u001b[0;34m]\u001b[0m \u001b[0;34m/\u001b[0m \u001b[0;36m1000\u001b[0m\u001b[0;34m,\u001b[0m \u001b[0mlabel\u001b[0m\u001b[0;34m=\u001b[0m\u001b[0;34m'system interval'\u001b[0m\u001b[0;34m)\u001b[0m\u001b[0;34m\u001b[0m\u001b[0m\n\u001b[1;32m      3\u001b[0m \u001b[0mlegend\u001b[0m\u001b[0;34m(\u001b[0m\u001b[0;34m)\u001b[0m\u001b[0;34m\u001b[0m\u001b[0m\n\u001b[0;32m----> 4\u001b[0;31m \u001b[0mtitle\u001b[0m\u001b[0;34m(\u001b[0m\u001b[0;34m\"Interval [roiHeight=\"\u001b[0m \u001b[0;34m+\u001b[0m \u001b[0mA\u001b[0m\u001b[0;34m)\u001b[0m\u001b[0;34m\u001b[0m\u001b[0m\n\u001b[0m\u001b[1;32m      5\u001b[0m \u001b[0mxlabel\u001b[0m\u001b[0;34m(\u001b[0m\u001b[0;34m\"Frame index\"\u001b[0m\u001b[0;34m)\u001b[0m\u001b[0;34m\u001b[0m\u001b[0m\n\u001b[1;32m      6\u001b[0m \u001b[0mylabel\u001b[0m\u001b[0;34m(\u001b[0m\u001b[0;34m\"Interval [us]\"\u001b[0m\u001b[0;34m)\u001b[0m\u001b[0;34m\u001b[0m\u001b[0m\n",
        "\u001b[0;31mTypeError\u001b[0m: cannot concatenate 'str' and 'numpy.ndarray' objects"
       ]
      }
     ],
     "prompt_number": 19
    },
    {
     "cell_type": "markdown",
     "metadata": {},
     "source": [
      "##Plot exposure vs interval at specific ROI"
     ]
    },
    {
     "cell_type": "code",
     "collapsed": false,
     "input": [
      "selectROI = where(dataSetStripped[:,4] == roiHeight)\n",
      "print( str( len( selectROI[0] ) ) + \" data points found\")\n",
      "\n",
      "close()\n",
      "\n",
      "x = transpose(dataSetStripped[selectROI,2])\n",
      "y1 = transpose(dataSetStripped[selectROI,7] / 1000)\n",
      "y2 = transpose(dataSetStripped[selectROI,6] / 1000)\n",
      "plot(x, y1, '.', label=\"timestamp\")\n",
      "#plot(x, y2, '.', label=\"system\")\n",
      "\n",
      "# show 120Hz line\n",
      "xmin, xmax = xlim()\n",
      "targetInterval = 1e6 / 120\n",
      "plot([xmin, xmax], [targetInterval, targetInterval], label=\"120Hz\")\n",
      "\n",
      "legend()\n",
      "title(\"Interval vs Exposure with ROI size 2048x\" + str(roiHeight))\n",
      "xlabel(\"Exposure (us)\")\n",
      "ylabel(\"Interval (us)\")\n",
      "\n",
      "show()"
     ],
     "language": "python",
     "metadata": {},
     "outputs": [
      {
       "output_type": "stream",
       "stream": "stdout",
       "text": [
        "2765 data points found\n"
       ]
      }
     ],
     "prompt_number": 4
    },
    {
     "cell_type": "markdown",
     "metadata": {},
     "source": [
      "## Plot interval vs ROI"
     ]
    },
    {
     "cell_type": "code",
     "collapsed": false,
     "input": [
      "close()\n",
      "\n",
      "x = transpose(dataSetStripped[:,4])\n",
      "y = transpose(dataSetStripped[:,7])\n",
      "plot(x, y, '.')\n",
      "title(\"Interval vs ROI height\")\n",
      "xlabel(\"ROI height\")\n",
      "ylabel(\"Interval (us)\")    "
     ],
     "language": "python",
     "metadata": {},
     "outputs": [
      {
       "output_type": "pyout",
       "prompt_number": 15,
       "text": [
        "<matplotlib.text.Text at 0x110511bd0>"
       ]
      }
     ],
     "prompt_number": 15
    },
    {
     "cell_type": "markdown",
     "metadata": {},
     "source": [
      "## Plot best interval vs ROI"
     ]
    },
    {
     "cell_type": "code",
     "collapsed": false,
     "input": [
      "rois = unique(transpose(dataSetStripped[:,4]))\n",
      "rois.shape\n",
      "\n",
      "for roi in rois:\n",
      "    first = (roi == rois[0])\n",
      "    selectROI = where(dataSetStripped[:,4] == roi)\n",
      "    intervals = transpose(dataSetStripped[selectROI, 7] / 1000)\n",
      "    lowIntervals = sort(intervals)[0:40]\n",
      "    count = lowIntervals.shape[0]\n",
      "    thisx = np.ones(count) * roi\n",
      "    thisy = transpose(lowIntervals)\n",
      "    if first:\n",
      "        x = thisx\n",
      "        y = thisy\n",
      "    else:\n",
      "        x = hstack([x, thisx])\n",
      "        y = hstack([y, thisy])\n",
      "y = transpose(y)\n",
      "\n",
      "close()\n",
      "plot(x,y, '.')\n",
      "title(\"Best intervals vs ROI\")\n",
      "xlabel(\"ROI y (px)\")\n",
      "ylabel(\"Interval (us)\")\n",
      "\n",
      "# show 120Hz line\n",
      "xmin, xmax = xlim()\n",
      "targetInterval = 1e6 / 120\n",
      "plot([xmin, xmax], [targetInterval, targetInterval], label=\"120Hz\")\n",
      "\n",
      "grid(True)\n",
      "\n",
      "show()\n",
      "    "
     ],
     "language": "python",
     "metadata": {},
     "outputs": [],
     "prompt_number": 59
    },
    {
     "cell_type": "code",
     "collapsed": false,
     "input": [
      "print y.shape\n",
      "print x.shape"
     ],
     "language": "python",
     "metadata": {},
     "outputs": [
      {
       "output_type": "stream",
       "stream": "stdout",
       "text": [
        "(1, 540)\n",
        "(540,)\n"
       ]
      }
     ],
     "prompt_number": 53
    },
    {
     "cell_type": "code",
     "collapsed": false,
     "input": [
      "x.shape"
     ],
     "language": "python",
     "metadata": {},
     "outputs": [
      {
       "output_type": "pyout",
       "prompt_number": 52,
       "text": [
        "(540,)"
       ]
      }
     ],
     "prompt_number": 52
    },
    {
     "cell_type": "code",
     "collapsed": false,
     "input": [],
     "language": "python",
     "metadata": {},
     "outputs": []
    }
   ],
   "metadata": {}
  }
 ]
}